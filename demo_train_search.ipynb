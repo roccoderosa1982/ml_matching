{
 "cells": [
  {
   "cell_type": "code",
   "execution_count": 1,
   "id": "013c948d",
   "metadata": {},
   "outputs": [],
   "source": [
    "from train_model import train_and_save_model\n",
    "from search import search_main"
   ]
  },
  {
   "cell_type": "code",
   "execution_count": 2,
   "id": "6f29d74a",
   "metadata": {},
   "outputs": [
    {
     "name": "stdout",
     "output_type": "stream",
     "text": [
      "Accuracy: 1.0\n",
      "Classification Report:\n",
      "               precision    recall  f1-score   support\n",
      "\n",
      "       False       1.00      1.00      1.00       201\n",
      "        True       1.00      1.00      1.00       199\n",
      "\n",
      "    accuracy                           1.00       400\n",
      "   macro avg       1.00      1.00      1.00       400\n",
      "weighted avg       1.00      1.00      1.00       400\n",
      "\n"
     ]
    }
   ],
   "source": [
    "train_and_save_model('data/data.json', 'model/model.joblib')"
   ]
  },
  {
   "cell_type": "code",
   "execution_count": 3,
   "id": "8f8a8406",
   "metadata": {},
   "outputs": [
    {
     "name": "stdout",
     "output_type": "stream",
     "text": [
      "\n",
      "\n",
      "Testing single match...\n",
      "{'talent': {'languages': [{'rating': 'C2', 'title': 'German'}, {'rating': 'C2', 'title': 'English'}, {'rating': 'B2', 'title': 'French'}, {'rating': 'A2', 'title': 'Turkish'}], 'job_roles': ['frontend-developer', 'backend-developer', 'full-stack-developer', 'java-developer', 'mobile-developer'], 'seniority': 'junior', 'salary_expectation': 48000, 'degree': 'bachelor'}, 'job': {'languages': [{'title': 'German', 'rating': 'C1', 'must_have': True}, {'title': 'English', 'rating': 'B2', 'must_have': True}], 'job_roles': ['frontend-developer'], 'seniorities': ['junior', 'midlevel'], 'max_salary': 70000, 'min_degree': 'none'}, 'label': True, 'score': 1.0}\n",
      "\n",
      "\n",
      "Testing batch match,showing only top 5 result...\n",
      "[{'talent': {'languages': [{'rating': 'C2', 'title': 'German'}, {'rating': 'C2', 'title': 'English'}, {'rating': 'B2', 'title': 'French'}, {'rating': 'A2', 'title': 'Turkish'}], 'job_roles': ['frontend-developer', 'backend-developer', 'full-stack-developer', 'java-developer', 'mobile-developer'], 'seniority': 'junior', 'salary_expectation': 48000, 'degree': 'bachelor'}, 'job': {'languages': [{'title': 'German', 'rating': 'C1', 'must_have': True}, {'title': 'English', 'rating': 'B2', 'must_have': True}], 'job_roles': ['frontend-developer'], 'seniorities': ['junior', 'midlevel'], 'max_salary': 70000, 'min_degree': 'none'}, 'label': True, 'score': 1.0}, {'talent': {'languages': [{'rating': 'C2', 'title': 'German'}, {'rating': 'C2', 'title': 'English'}, {'rating': 'A2', 'title': 'Spanish'}, {'rating': 'A2', 'title': 'French'}], 'job_roles': ['frontend-developer', 'full-stack-developer', 'c-c-developer', 'mobile-developer'], 'seniority': 'junior', 'salary_expectation': 44000, 'degree': 'master'}, 'job': {'languages': [{'title': 'German', 'rating': 'C1', 'must_have': True}, {'title': 'English', 'rating': 'B2', 'must_have': True}], 'job_roles': ['frontend-developer'], 'seniorities': ['junior', 'midlevel'], 'max_salary': 70000, 'min_degree': 'none'}, 'label': True, 'score': 1.0}, {'talent': {'languages': [{'rating': 'C2', 'title': 'English'}, {'rating': 'C2', 'title': 'Romanian'}, {'rating': 'A1', 'title': 'German'}], 'job_roles': ['frontend-developer', 'backend-developer', 'php-developer', 'software-architect', 'database-administrator'], 'seniority': 'senior', 'salary_expectation': 40000, 'degree': 'none'}, 'job': {'languages': [{'title': 'German', 'rating': 'C1', 'must_have': False}, {'title': 'English', 'rating': 'C1', 'must_have': True}], 'job_roles': ['php-developer'], 'seniorities': ['midlevel', 'senior'], 'max_salary': 65000, 'min_degree': 'none'}, 'label': True, 'score': 1.0}, {'talent': {'languages': [{'rating': 'C2', 'title': 'German'}, {'rating': 'C1', 'title': 'English'}], 'job_roles': ['frontend-developer', 'backend-developer', 'full-stack-developer', 'c-net-developer', 'java-developer'], 'seniority': 'junior', 'salary_expectation': 46000, 'degree': 'apprenticeship'}, 'job': {'languages': [{'title': 'German', 'rating': 'C1', 'must_have': True}, {'title': 'English', 'rating': 'B2', 'must_have': True}], 'job_roles': ['frontend-developer'], 'seniorities': ['junior', 'midlevel'], 'max_salary': 70000, 'min_degree': 'none'}, 'label': True, 'score': 1.0}, {'talent': {'languages': [{'rating': 'C2', 'title': 'German'}, {'rating': 'C1', 'title': 'English'}], 'job_roles': ['devops-engineer', 'frontend-developer', 'backend-developer', 'full-stack-developer', 'tech-lead'], 'seniority': 'midlevel', 'salary_expectation': 75000, 'degree': 'master'}, 'job': {'languages': [{'title': 'German', 'rating': 'C1', 'must_have': True}, {'title': 'English', 'rating': 'C1', 'must_have': False}], 'job_roles': ['backend-developer', 'full-stack-developer'], 'seniorities': ['midlevel'], 'max_salary': 80000, 'min_degree': 'bachelor'}, 'label': True, 'score': 1.0}]\n"
     ]
    }
   ],
   "source": [
    " search_main()"
   ]
  },
  {
   "cell_type": "code",
   "execution_count": null,
   "id": "e26157eb",
   "metadata": {},
   "outputs": [],
   "source": []
  }
 ],
 "metadata": {
  "kernelspec": {
   "display_name": "Python 3 (ipykernel)",
   "language": "python",
   "name": "python3"
  },
  "language_info": {
   "codemirror_mode": {
    "name": "ipython",
    "version": 3
   },
   "file_extension": ".py",
   "mimetype": "text/x-python",
   "name": "python",
   "nbconvert_exporter": "python",
   "pygments_lexer": "ipython3",
   "version": "3.8.17"
  }
 },
 "nbformat": 4,
 "nbformat_minor": 5
}
